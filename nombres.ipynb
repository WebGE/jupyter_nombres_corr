{
 "cells": [
  {
   "cell_type": "markdown",
   "metadata": {},
   "source": [
    "## Représentation des nombres en machine - <span style=\"color:blue;\">CORRECTION</span>"
   ]
  },
  {
   "cell_type": "markdown",
   "metadata": {},
   "source": [
    "**Ressources** : <button><a href=\"https://webge.fr/dokuwiki/doku.php?id=info:gene:repdonnees\" target=\"_blank\">Représentation des données</a></button> <button><a href=\"https://realpython.com/python-numbers\" target=\"_blank\">Real Pyton - Numbers</a></button>"
   ]
  },
  {
   "cell_type": "markdown",
   "metadata": {},
   "source": [
    "---\n",
    "\n",
    "**Sommaire**\n",
    "<ol>\n",
    "    <li>Entiers</li>\n",
    "        <ol>\n",
    "            <li>Présentation</li>\n",
    "            <li>Exercices</li>\n",
    "            <ol>\n",
    "                <li>Conversion hexadécimal -> décimal</li>\n",
    "                <li>Conversion binaire -> décimal</li>\n",
    "                <li>Conversion binaire ou hexadécimal -> décimal</li>\n",
    "            </ol>\n",
    "        </ol>\n",
    "    <li>Flottants</li>\n",
    "        <ol>\n",
    "            <li>Présentation</li>\n",
    "            <li>Exercices</li>\n",
    "            <ol>\n",
    "                <li>Valeurs minimum et maximum sur une machine ?</li>\n",
    "                <li>Pourquoi 0.1 + 0.2 =/= 0.3 ?</li>\n",
    "            </ol>\n",
    "        </ol>\n",
    "    <li>Pour aller plus loin : complément à 2</li>\n",
    "        <ol>\n",
    "            <li>Nombre de bits nécessaires pour coder un nombre décimal en binaire (complément à 2)</li>\n",
    "            <li>Conversion binaire (complément à 2) -> décimal</li>\n",
    "        </ol>\n",
    "</ol>\n",
    "\n",
    "---"
   ]
  },
  {
   "cell_type": "markdown",
   "metadata": {},
   "source": [
    "<h2>1. Entiers</h2>\n",
    "<h3>1.A Présentation</h3>\n",
    "<table>\n",
    "    <tr>\n",
    "        <td style=\"text-align:justify; font-size:14px;\">Pour manipuler des séquences de <strong>bits</strong>, de longueur arbitraire, on utilise la notation <strong>0b</strong> devant le nombre binaire. Pour manipuler une valeur hexadécimale, on l'a fait précédée de <strong>0x</strong>. <br> <br> Python dispose également des fonctions <a href=\"https://docs.python.org/fr/3.11/library/functions.html\" target=\"_blank\"><b>buit-in</b></a> (natives) <br>\n",
    "- <b>bin</b>(valeur),<br>\n",
    "- <b>hex</b>(valeur) et <br>\n",
    "- <b>int</b>(valeur, base) pour convertir des valeurs en base 2, en base 16 et en base 10. <br>   \n",
    "        </td>\n",
    "        <td width=\"20%\"><img src=\"img/octeb2.jpg\"></td>\n",
    "    </tr>\n",
    "</table>"
   ]
  },
  {
   "cell_type": "code",
   "execution_count": null,
   "metadata": {},
   "outputs": [],
   "source": [
    "# Exemples\n",
    "print(hex(0b010101)) # Le résultat affiché est une chaîne de caractère\n",
    "print(hex(12)) # ici aussi\n",
    "print(bin(0x34))\n",
    "print(bin(-8)) # Remarque : python n'affiche pas les valeurs négatives en complément à 2 !\n",
    "print(int(0x24))\n",
    "print(int(0b1101))"
   ]
  },
  {
   "cell_type": "markdown",
   "metadata": {},
   "source": [
    "### 1.B Exercices"
   ]
  },
  {
   "cell_type": "markdown",
   "metadata": {},
   "source": [
    "#### 1.B a) Conversion hexadécimal -> décimal\n",
    "> **Activité 1.** Ecrire un programme qui demande un nombre hexadécimal et l'affiche en décimal.\n",
    ">\n",
    "> *Exemple de résultat attendu* <br>\n",
    "> *Demande* : Entrer un nombre hexadécimal (par exemple, 0x1A3F) :  <b>0x52</b> <br>\n",
    "> *Réponse* : Le nombre décimal correspondant à <b>0x52</b> est <b>82</b>"
   ]
  },
  {
   "cell_type": "code",
   "execution_count": null,
   "metadata": {},
   "outputs": [],
   "source": [
    "# A compléter\n",
    "# Demander à l'utilisateur de saisir un nombre hexadécimal par exemple 0x1A3F\n",
    "N_hex = input(\"Entrer un nombre hexadécimal (par exemple, 0x1A3F) : \")\n",
    "\n",
    "base = N_hex[0:2]\n",
    "if base == \"0x\":\n",
    "    # Convertir le nombre hexadécimal en décimal. Préciser la base : int(valeur, base)\n",
    "    N_deci = int(N_hex,16)\n",
    "    # Afficher\n",
    "    print(f\"Le nombre décimal correspondant à {N_hex} est {N_deci}\")\n",
    "else:\n",
    "    print(f\"Ce nombre n'est pas écrit en hexadécimal\")"
   ]
  },
  {
   "cell_type": "markdown",
   "metadata": {},
   "source": [
    "#### 1.B b) Conversion binaire -> décimal\n",
    "> **Activité 2.** Ecrir un programme qui demande un nombre binaire et l'affiche en décimal.\n",
    ">\n",
    "> *Exemple de résultat attendu* <br>\n",
    "> *Demande* : Entrer un nombre binaire (par exemple,0b10001101) :  <b>0b10001101</b> <br>\n",
    "> *Réponse* : Le nombre décimal correspondant a <b>0b10001101</b> est <b>141</b>"
   ]
  },
  {
   "cell_type": "code",
   "execution_count": null,
   "metadata": {},
   "outputs": [],
   "source": [
    "# A compléter\n",
    "# Demander à l'utilisateur de saisir un nombre binaire par exemple 0b10001101\n",
    "N_bin = input(\"Entrer un nombre binaire (par exemple,0b10001101) : \")\n",
    "\n",
    "base = N_bin[0:2]\n",
    "if base == \"0b\":\n",
    "    # Convertir le nombre binaire en décimal. Préciser la base : int(valeur, base)\n",
    "    N_deci = int(N_bin,2)\n",
    "    print(f\"Le nombre décimal correspondant à {N_bin} est {N_deci}\")\n",
    "else:\n",
    "# Afficher le nombre décimal\n",
    "    print(f\"Ce nombre n'est pas écrit en binaire\")"
   ]
  },
  {
   "cell_type": "markdown",
   "metadata": {},
   "source": [
    "#### 1.B c) Conversion binaire ou hexadécimal -> décimal\n",
    "> **Activité 3.** Ecrir un programme qui demande un nombre binaire ou un nombre hexadécimal et l'afficher en décimal.\n",
    ">\n",
    "> *Exemples de résultats attendu* <br>\n",
    "> *Demande 1* : Entrer un nombre binaire (précédé de 0b) ou hexadécimal (précédé de 0x) :  <b>0b10001101</b> <br>\n",
    "> *Réponse 1* : Le nombre décimal correspondant à b>0b10001101</b> est : <b>141</b>\n",
    ">\n",
    "> *Demande 2* : Entrer un nombre binaire (précédé de 0b) ou hexadécimal (précédé de 0x) :  <b>0x52</b> <br>\n",
    "> *Réponse 2* : Le nombre décimal correspondant à <b>0x52</b> est : <b>82</b>\n",
    ">\n",
    "> *Demande 3* : Entrer un nombre binaire (précédé de 0b) ou hexadécimal (précédé de 0x) :  <b>231</b> <br>\n",
    "> *Réponse 3* : <b>Nombre non reconnu  !</b>\n",
    "\n",
    "__Note__ : pour identifier les deux premiers caractères du nombre, on peut faire une sélection de chaîne <a href=\"https://webge.fr/dokuwiki/doku.php?id=python:bases:chaines#longueur_d_une_chaine_parcours_et_selection_slice\" target=\"_blank\"><b>(slice)</b></a>"
   ]
  },
  {
   "cell_type": "code",
   "execution_count": null,
   "metadata": {},
   "outputs": [],
   "source": [
    "# A compléter\n",
    "# Demander à l'utilisateur de saisir un nombre binaire ou hexadécimal \n",
    "N = input(\"Entrer un nombre binaire (précédé de 0b) ou hexadécimal (précédé de 0x) : \")\n",
    "\n",
    "# Identifier les 2 premiers caractères du nombre\n",
    "base = N[0:2]\n",
    "# Si 0x alors hexadécimal -> décimal\n",
    "if base ==\"0x\":\n",
    "    N_deci = int(N,16)\n",
    "# sinon si 0b alors binaire -> décimal\n",
    "elif base ==\"0b\":\n",
    "    N_deci = int(N,2)\n",
    "# sinon message \"Nombre non reconnu\n",
    "else :\n",
    "    N_deci = 'None'\n",
    "# fin si\n",
    "\n",
    "# Afficher le nombre décimal\n",
    "if N_deci !='None':\n",
    "    print(f\"Le nombre décimal correspondant à {N} est {N_deci}\")\n",
    "else:\n",
    "    print(\"Nombre non reconnu !\")"
   ]
  },
  {
   "cell_type": "markdown",
   "metadata": {},
   "source": [
    "## 2. Flottants"
   ]
  },
  {
   "cell_type": "markdown",
   "metadata": {},
   "source": [
    "<h3>2.A Présentation</h3>\n",
    "<table>\n",
    "    <tr>\n",
    "        <td style=\"text-align:justify; font-size:14px;\">Les <b>nombres flottants</b> sont une représentation <b>APPROXIMATIVE</b> des nombres réels dans un ordinateur. La norme internationale <a href=\"\" target=\"_blank\">IEEE 754</a> définit un encodage en simple (32 bits) ou double précision (64 bits) ainsi que des règles d'<b>arrondi</b>. <br> <br> Les opérations arithmétiques sur les nombres flottants n'ont pas toujours les mêmes propriétés que ces mêmes opérations sur les réels.</td>\n",
    "        <td width=\"20%\"><img src=\"img/flottant.png\"></td>\n",
    "    </tr>\n",
    "</table>"
   ]
  },
  {
   "cell_type": "code",
   "execution_count": null,
   "metadata": {},
   "outputs": [],
   "source": [
    "# Exemples à tester\n",
    "# \n",
    "print(6000000000000000000000.0)\n",
    "# \n",
    "print(-0.00000000000000000000000000012)"
   ]
  },
  {
   "cell_type": "markdown",
   "metadata": {},
   "source": [
    "### 2.B Exercices\n",
    "#### 2.B a) Valeurs minimum et maximum sur une machine ?"
   ]
  },
  {
   "cell_type": "code",
   "execution_count": null,
   "metadata": {},
   "outputs": [],
   "source": [
    "# A tester\n",
    "# Pour connaître la valeur maximale et la valeur minimale d'un flottant sur votre ordinateur, entrez :\n",
    "import sys\n",
    "sys.float_info"
   ]
  },
  {
   "cell_type": "markdown",
   "metadata": {},
   "source": [
    "> **Activité 4a.** Quelle information renvoie la machine si on dépasse le maximum (positif, négatif) ou minimum ?"
   ]
  },
  {
   "cell_type": "code",
   "execution_count": null,
   "metadata": {},
   "outputs": [],
   "source": [
    "# Afficher un nombre > max positif\n",
    "print(1.8076931348623157e+308)\n",
    "# Afficher un nombre < max négatif\n",
    "print(-2.0e308)\n",
    "# Afficher un nombre inférieur à min\n",
    "print(2.0e-350)"
   ]
  },
  {
   "cell_type": "markdown",
   "metadata": {},
   "source": [
    "#### 2.B b) Pourquoi 0.1 +0.2 =/= 0.3 ?\n",
    "> Cette erreur est liée à la façon dont les nombres à virgule flottante sont stockés dans la mémoire d'un ordinateur. Une explication détaillée est donnée dans le paragraphe <a href=\"https://realpython.com/python-numbers/#make-python-lie-to-you\" target=\"_blank\"><b>\"Faire mentir python\"</b></a> sur Real Python."
   ]
  },
  {
   "cell_type": "code",
   "execution_count": null,
   "metadata": {},
   "outputs": [],
   "source": [
    "# Tester l'opération\n",
    "0.1 +0.2"
   ]
  },
  {
   "cell_type": "markdown",
   "metadata": {},
   "source": [
    ">**Solution** : pour pallier le problème, on vérifie si deux valeurs sont proches l'une de l'autre.\n",
    ">\n",
    "><u>Exemple</u> <br>\n",
    ">On vérifie qu'un nombre x = sin(2*pi) est proche de 0 avec une précision p.\n"
   ]
  },
  {
   "cell_type": "code",
   "execution_count": null,
   "metadata": {},
   "outputs": [],
   "source": [
    "# Exemple à tester\n",
    "from math import *\n",
    "\n",
    "def testegal(x, y, p):\n",
    "    '''\n",
    "    x : flottant, nombre à comparer à y\n",
    "    y : flottant\n",
    "    p : précision\n",
    "    '''\n",
    "    if abs(x - y) <= p:\n",
    "        return True\n",
    "    else:\n",
    "        return False\n",
    "\n",
    "print(f\"sin(2*pi) =  {sin(2*math.pi)}\")\n",
    "r1 = testegal(math.sin(2*math.pi), 0.0, 1e-15)\n",
    "print(f\"{r1} si p = 1e-15\") # Renvoie True\n",
    "r1 = testegal(math.sin(2*math.pi), 0.0, 1e-16)\n",
    "print(f\"{r1} si p = 1e-16\") # Renvoie False"
   ]
  },
  {
   "cell_type": "markdown",
   "metadata": {},
   "source": [
    "La bibliothèque math contient une fonction <a href=\"https://www.w3schools.com/python/ref_math_isclose.asp\" target=\"_blank\"><b>isclose()</b></a>.\n",
    "\n",
    "> **Activité 4b.** Compléter le code ci-dessous pour obtenir avec isclose() le même comportement que testegal()."
   ]
  },
  {
   "cell_type": "code",
   "execution_count": null,
   "metadata": {},
   "outputs": [],
   "source": [
    "# A compléter\n",
    "def testegalv2(a, b, p):\n",
    "    if math.isclose(a, b, abs_tol = p):\n",
    "        return True\n",
    "    else:\n",
    "        return False\n",
    "\n",
    "print(f\"sin(2*pi) =  {sin(2*math.pi)}\")\n",
    "r1 = testegalv2(math.sin(2*math.pi), 0.0, 1e-15)\n",
    "print(f\"{r1} si p = 1e-15\") # Renvoie True\n",
    "r1 = testegalv2(math.sin(2*math.pi), 0.0, 1e-16)\n",
    "print(f\"{r1} si p = 1e-16\") # Renvoie False"
   ]
  },
  {
   "cell_type": "markdown",
   "metadata": {},
   "source": [
    "## 3. Pour aller plus loin : complément à 2"
   ]
  },
  {
   "cell_type": "markdown",
   "metadata": {},
   "source": [
    "### 3.A Nombre de bits nécessaires pour coder un nombre décimal en binaire (complément à 2) ?\n",
    "> Combien de bits sont nécessaires pour coder N et -N en **complément à 2** ?"
   ]
  },
  {
   "cell_type": "markdown",
   "metadata": {},
   "source": [
    "<span style=\"color:blue;\"><em><strong>Démonstration</strong></em><br>\n",
    "    On sait que -2<sup>n-1</sup> ≤ N<sub>10</sub> ≤ 2<sup>n-1</sup> - 1<br>\n",
    "On pose  N ≤ 2<sup>n-1</sup> - 1<br>\n",
    "⇒ N + 1 ≤  2<sup>n-1</sup> <br>\n",
    "⇒ log<sub>10</sub>(2<sup>n-1)</sup> ≥ log<sub>10</sub>(N+1) or log<sub>10</sub>(a<sup>b</sup>) = b*log<sub>10</sub>(a) <br>\n",
    "⇒ n-1 ≥ log<sub>10</sub>(N+1)/log<sub>10</sub>(2) <br>\n",
    "⇒ <b>n ≥ (log<sub>10</sub>(N+1)/log<sub>10</sub>(2)) + 1 </b><br>\n",
    "<br>\n",
    "Application<br>\n",
    "Si N = 15789,  n ≥ 14,94 ⇒ <b>n=15</b><br>\n",
    "<br>\n",
    "On pose |-2|<sup>n-1</sup> ≤ |N| avec N < 0<br>\n",
    "⇒ 2<sup>n-1</sup> ≥ |N| <br>\n",
    "⇒ log<sub>10</sub>(2<sup>n-1)</sup> ≥ log<sub>10</sub>(|N|) or log<sub>10</sub>(a<sup>b</sup>) = b*log<sub>10</sub>(a) <br>\n",
    "⇒ n-1 ≥ log<sub>10</sub>(|N|)/log<sub>10</sub>(2) <br>\n",
    "⇒ <b>n ≥ (log<sub>10</sub>(|N|)/log<sub>10</sub>(2)) + 1 </b><br>\n",
    "<br>\n",
    "Application <br>\n",
    "Si N = -459872, n ≥ 19,91 ⇒ <b>n=20</b>"
   ]
  },
  {
   "cell_type": "markdown",
   "metadata": {},
   "source": [
    "> **Activité 5.** Ecrire une fonction *nb_bits(N)* qui renvoie le nombre de bits nécessaire au codage d'un nombre binaire en **complément à 2**.<br>\n",
    ">\n",
    "> *Exemple de résultats attendus* <br>\n",
    "> Texte affiché : Il faut 20 bit(s) pour coder -459872 en complément à 2  <br>\n",
    "> Texte affiché : Il faut 15 bit(s) pour coder 15789 en complément à 2 <br>\n",
    ">\n",
    "<b>Note</b> : on pourra utiliser les fonctions **ceil**, **abs** et **log** de la bibliothèque <a href=\"https://docs.python.org/fr/dev/library/math.html\" target=\"_blank\"><b>math</b></a>"
   ]
  },
  {
   "cell_type": "code",
   "execution_count": null,
   "metadata": {},
   "outputs": [],
   "source": [
    "# A compléter\n",
    "from math import *\n",
    "\n",
    "def nb_bits(N:int)->int :\n",
    "    if N==0 or N==1:\n",
    "        return 1\n",
    "    elif N == -1 or N==-2:\n",
    "        return 2\n",
    "    elif N > 0:\n",
    "        return 1 + int(ceil(log(N+1)/log(2)))\n",
    "    else:\n",
    "        return 1 + int(ceil(log(abs(N))/log(2)))\n",
    "\n",
    "N = input(\"Entrez un nombre entier\")\n",
    "nb= nb_bits(int(N))\n",
    "print(f\"Il faut {nb} bit(s) pour coder {N} en complément à 2\")"
   ]
  },
  {
   "cell_type": "markdown",
   "metadata": {},
   "source": [
    "### 3.B Conversion binaire (complément à 2) -> décimal\n",
    "> On donne l'**algorithme** d'une fonction *complementa2(b)* qui calcule le complément à 2 d'un nombre binaire <html>N = b<sub>n-1</sub> b<sub>n-2</sub>,..., b<sub>0</sub></html> stocké dans un tableau *b* contenant uniquement les chiffres 0 et 1. <br>\n",
    "> La fonction renvoit un nouveau tableau de même taille que b. <br>\n",
    "\n",
    "<code>\n",
    "    Algorithme Complementa2(b)\n",
    "        // b: tableau contenant un nombre N codé en binaire complément à 2 sur n bits tel que :\n",
    "        //   <html>N = b<sub>n-1</sub> b<sub>n-2</sub>,..., b<sub>0</sub></html>\n",
    "        // b[0] = b<sub>n-1</sub>\n",
    "        // ...\n",
    "        // b[n-1] = b<sub>0</sub>\n",
    "        retenue, somme : entier // somme = b[i] + retenue  avec 0 ≤ i ≤ n-1\n",
    "    debut\n",
    "        si (b[0] = 0) \n",
    "        alors                                                // MSB = 0 => nombre positif \n",
    "            renvoyer(b)                                                                         \n",
    "        sinon                                                // MSB = 1 => nombre négatif\n",
    "            inverser l'état logique des bits dans le tableau // Complément à 1\n",
    "            retenue = 1\n",
    "            pour i variant de n-1 à 0                        // tableau parcouru en ordre inverse pour le \n",
    "            faire                                            // ajouter 1 au complément à 1 => complément à 2\n",
    "                somme  = b[i] + retenue\n",
    "                si (somme == 2) \n",
    "                alors\n",
    "                    retenue = 1\n",
    "                    b[i] = 0\n",
    "                sinon si (somme == 1) \n",
    "                      alors\n",
    "                          retenue = 0\n",
    "                          b[i] = 1\n",
    "                      sinon\n",
    "                          retenue = 0\n",
    "                          b[i] = 0\n",
    "                      fin si\n",
    "                fin si\n",
    "            fin pour\n",
    "        fin si\n",
    "        renvoyer(b)\n",
    "    fin\n",
    "</code>\n",
    "    "
   ]
  },
  {
   "cell_type": "markdown",
   "metadata": {},
   "source": [
    "> **Activité 6.** Coder la fonction *complementa2(b)* et l'utiliser pour convertir en décimal un nombre binaire codé en complément à 2. <br>\n",
    ">\n",
    "> *Exemple de résultat attendu pour  N<sub>2</sub> = 10001111 c'est à dire Nb=[1,0,0,0,1,1,1,1]* <br>\n",
    ">\n",
    "> Texte affiché : La valeur décimale de Nb est N = -113\n",
    "\n",
    "__Notes__ <br>\n",
    "Pour parcourir un tableau tab dans l'ordre croissant de ses indices i : for i in range(len(tab)) <br>\n",
    "Pour parcourir un tableau tab dans l'ordre décroissant de ses indices i : for i in range(-1,-(len(tab)+1),-1) "
   ]
  },
  {
   "cell_type": "code",
   "execution_count": null,
   "metadata": {},
   "outputs": [],
   "source": [
    "# Version 1 conforme à l'algorithme : complément à 1 suivi du complément à 2\n",
    "def entier(b:list)->int:\n",
    "    n=0\n",
    "    for i in range(len(b)):\n",
    "        n += b[i]*pow(2,len(b)-i-1)\n",
    "    return n\n",
    "    \n",
    "# A compléter\n",
    "def complementa2(b:list)->list:\n",
    "    if b[0]==0 : # MSB = 0 => le nombre est positif\n",
    "        return b\n",
    "    else:                         # complément à 1\n",
    "        for j in range(len(b)):\n",
    "            if b[j] == 0:\n",
    "                b[j] = 1\n",
    "            else:\n",
    "                b[j] = 0\n",
    "        retenue = 1\n",
    "        for i in range(-1,-(len(b)+1),-1): # complément à 1 + 1 => complément à 2\n",
    "            somme  = b[i] + retenue\n",
    "            if somme == 2:\n",
    "                retenue = 1\n",
    "                b[i] = 0\n",
    "            elif somme == 1:\n",
    "                retenue = 0\n",
    "                b[i] = 1 \n",
    "            else:\n",
    "                retenue = 0\n",
    "                b[i] = 0\n",
    "        return b\n",
    "        \n",
    " #Tests\n",
    "Nb=[1,0,0,0,1,1,1,1] # Exemple : -113 sur 8bits\n",
    "#Nb = [0,1,1,1,1,1,1,1] # Exemple : 127 sur 8bits\n",
    "#Nb=[1,1,1,1,1,1,1,1,1,0,0,0,1,1,1,1] # Exemple : -113 sur 16bits\n",
    "#Nb=[1,1,1,1,1,1,1,1,0,0,0,0,0,0,0,0] # Exemple : -256 sur 16bits\n",
    "#Nb =[1,0,0,0,0,0,0,0,0] # Exemple: -256 sur 9bits\n",
    "\n",
    "if (Nb[0]==0):\n",
    "    print(f\"La valeur décimale de Nb est N = {int(entier(complementa2(Nb)))}\")\n",
    "else:\n",
    "    print(f\"La valeur décimale de Nb est N = -{int(entier(complementa2(Nb)))}\") "
   ]
  },
  {
   "cell_type": "code",
   "execution_count": null,
   "metadata": {},
   "outputs": [],
   "source": [
    "# Version 2 complément à 2 sans inverser les bit de b\n",
    "# def entier(b:list)->int: doit avoir été exécutée\n",
    "#\n",
    "def complementa2v2(b:list)->list:\n",
    "    if b[0]==0 : # MSB = 0 => le nombre est positif\n",
    "        return b\n",
    "    else:        # MSB = 1 => le nombre est négatif\n",
    "        retenue = 1                         # On parcourt la table de n-1 -> 0\n",
    "        for i in range(-1,-(len(b)+1),-1):  # le complément à 1 et l'addition de 1 sont traités dans la même boucle\n",
    "            if b[i] == 0:                   # On test b[i] == 0 mais si vrai on traite b[i] == 1 (complément à 1)\n",
    "                RS = retenue + 1            # On économise ainsi l'inversion de b\n",
    "                if RS == 2:                 # RS = 10  (R: bit de retenue, S : bit de somme)\n",
    "                    retenue = 1\n",
    "                    b[i] = 0 \n",
    "                elif RS == 1:               # RS = 01\n",
    "                    retenue = 0\n",
    "                    b[i] = 1 \n",
    "                else:\n",
    "                    retenue == 0;           # RS = 00\n",
    "                    b[i] = 0 \n",
    "            else:                           # On test b[i] == 1 mais si vrai on traite b[i] == 0 (complément à 1)\n",
    "                if retenue == 1:\n",
    "                    retenue = 0\n",
    "                    b[i] = 1\n",
    "                else:\n",
    "                    b[i] = 0   \n",
    "        return b\n",
    "\n",
    " #Tests\n",
    "Nb=[1,0,0,0,1,1,1,1] # Exemple : -113 sur 8bits\n",
    "#Nb = [0,1,1,1,1,1,1,1] # Exemple : 127 sur 8bits\n",
    "#Nb=[1,1,1,1,1,1,1,1,1,0,0,0,1,1,1,1] # Exemple : -113 sur 16bits\n",
    "#Nb=[1,1,1,1,1,1,1,1,0,0,0,0,0,0,0,0] # Exemple : -256 sur 16bits\n",
    "#Nb =[1,0,0,0,0,0,0,0,0] # Exemple: -256 sur 9bits\n",
    "\n",
    "if (Nb[0]==0):\n",
    "    print(f\"La valeur décimale de Nb est N = {int(entier(complementa2(Nb)))}\")\n",
    "else:\n",
    "    print(f\"La valeur décimale de Nb est N = -{int(entier(complementa2(Nb)))}\") "
   ]
  },
  {
   "cell_type": "code",
   "execution_count": null,
   "metadata": {},
   "outputs": [],
   "source": []
  }
 ],
 "metadata": {
  "kernelspec": {
   "display_name": "Python 3 (ipykernel)",
   "language": "python",
   "name": "python3"
  },
  "language_info": {
   "codemirror_mode": {
    "name": "ipython",
    "version": 3
   },
   "file_extension": ".py",
   "mimetype": "text/x-python",
   "name": "python",
   "nbconvert_exporter": "python",
   "pygments_lexer": "ipython3",
   "version": "3.12.4"
  }
 },
 "nbformat": 4,
 "nbformat_minor": 4
}
